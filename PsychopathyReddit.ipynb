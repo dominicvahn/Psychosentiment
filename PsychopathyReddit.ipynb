{
 "cells": [
  {
   "cell_type": "code",
   "execution_count": 8,
   "metadata": {},
   "outputs": [],
   "source": [
    "# This part of the code loads the only two required libraries. Pandas is a data handler for python, it's what lets us organize our data into spreedsheets.\n",
    "# PMAW is a wrapper for the PushshiftAPI. Pushshift is a service that lets you search reddit, the wrapper makes it more user friendly. \n",
    "import pandas as pd\n",
    "from pmaw import PushshiftAPI\n",
    "api = PushshiftAPI()"
   ]
  },
  {
   "cell_type": "code",
   "execution_count": 13,
   "metadata": {},
   "outputs": [],
   "source": [
    "# This sets up what time range you want to search through.\n",
    "import datetime as dt\n",
    "before = int(dt.datetime(2022,2,28,0,0).timestamp())\n",
    "after = int(dt.datetime(2021,2,1,0,0).timestamp())"
   ]
  },
  {
   "cell_type": "code",
   "execution_count": null,
   "metadata": {},
   "outputs": [],
   "source": [
    "# These are the actual parameters for the search. Pushshift has documentation about what terms can be used. Subreddit is good for general searching, adding the author parameter allows us to only get comments from people who fit our criteria.\n",
    "subreddit=\"psychopathy\"\n",
    "limit=500\n",
    "comments = api.search_comments(subreddit=subreddit, limit=limit, before=before, after=after)\n",
    "print(f'Retrieved {len(comments)} comments from Pushshift')"
   ]
  },
  {
   "cell_type": "code",
   "execution_count": null,
   "metadata": {},
   "outputs": [],
   "source": [
    "# Lets you preview the data\n",
    "comments_df = pd.DataFrame(comments)# preview the comments data\n",
    "comments_df.head(5)"
   ]
  },
  {
   "cell_type": "code",
   "execution_count": 20,
   "metadata": {},
   "outputs": [],
   "source": [
    "# Saves the data to a csv file. \n",
    "comments_df.to_csv('psychopath_comments.csv', header=True, index=False, columns=list(comments_df.axes[1]))"
   ]
  },
  {
   "cell_type": "code",
   "execution_count": null,
   "metadata": {},
   "outputs": [],
   "source": []
  }
 ],
 "metadata": {
  "interpreter": {
   "hash": "e5ef2f99075a8baab41059b01c90d42d6ce60782a5ac537e9bcf7499f7a1e49d"
  },
  "kernelspec": {
   "display_name": "Python 3.7.2 32-bit",
   "language": "python",
   "name": "python3"
  },
  "language_info": {
   "codemirror_mode": {
    "name": "ipython",
    "version": 3
   },
   "file_extension": ".py",
   "mimetype": "text/x-python",
   "name": "python",
   "nbconvert_exporter": "python",
   "pygments_lexer": "ipython3",
   "version": "3.7.2"
  },
  "orig_nbformat": 4
 },
 "nbformat": 4,
 "nbformat_minor": 2
}
